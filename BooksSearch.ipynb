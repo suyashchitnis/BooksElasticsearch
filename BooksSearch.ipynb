{
 "cells": [
  {
   "cell_type": "markdown",
   "metadata": {},
   "source": [
    "# The program is to create index of Each pdf file in elasticsearch using Python"
   ]
  },
  {
   "cell_type": "raw",
   "metadata": {},
   "source": []
  },
  {
   "cell_type": "markdown",
   "metadata": {},
   "source": [
    "# Here I have imported the required package\n",
    "    -> Elasticsearch for creating and searching indexes\n",
    "    -> os and glob to set directory and get the access to all pdf files directory\n",
    "    -> PyPDF2 is the key to read all pdf files\n",
    "    -> And Pandas is the package to create dataframe from readed text"
   ]
  },
  {
   "cell_type": "code",
   "execution_count": 1,
   "metadata": {},
   "outputs": [],
   "source": [
    "from elasticsearch import Elasticsearch\n",
    "import os\n",
    "import glob\n",
    "import PyPDF2\n",
    "import pandas as pd"
   ]
  },
  {
   "cell_type": "markdown",
   "metadata": {},
   "source": [
    "# selected/changed directory"
   ]
  },
  {
   "cell_type": "code",
   "execution_count": 2,
   "metadata": {},
   "outputs": [],
   "source": [
    "os.chdir(\"./Books/\")\n",
    "files = glob.glob(\"*.*\")"
   ]
  },
  {
   "cell_type": "code",
   "execution_count": 3,
   "metadata": {},
   "outputs": [
    {
     "data": {
      "text/plain": [
       "11"
      ]
     },
     "execution_count": 3,
     "metadata": {},
     "output_type": "execute_result"
    }
   ],
   "source": [
    "len(files)"
   ]
  },
  {
   "cell_type": "code",
   "execution_count": 4,
   "metadata": {},
   "outputs": [
    {
     "name": "stdout",
     "output_type": "stream",
     "text": [
      "thebook.pdf\n",
      "Data-Mining.pdf\n",
      "s9449-building-a-distributed-gpu-dataframe-with-python_V2.pdf\n",
      "data-mining-concepts-and-techniques-2nd-edition-impressao.pdf\n",
      "s9577-rapids-the-platform-inside-and-out.pdf\n",
      "NIC225296.pdf\n",
      "DSA_Book.pdf\n",
      "[Joel_Grus]_Data_Science_from_Scratch_First_Princ.pdf\n",
      "pyspark.pdf\n",
      "Parallel computing.pdf\n",
      "ch1.pdf\n"
     ]
    }
   ],
   "source": [
    "for book in files:\n",
    "    print(book)"
   ]
  },
  {
   "cell_type": "markdown",
   "metadata": {},
   "source": [
    "# following function creates dataframe from the readed pdf files"
   ]
  },
  {
   "cell_type": "code",
   "execution_count": 5,
   "metadata": {},
   "outputs": [],
   "source": [
    "def create_dataframe(files):\n",
    "    this_loc = 1\n",
    "    df = pd.DataFrame(columns=['Name',\"Pages\",\"Content\"])\n",
    "    \n",
    "    for file in files:\n",
    "        pdfFileObj = open(file,'rb')\n",
    "        pdfreader = PyPDF2.PdfFileReader(pdfFileObj)\n",
    "        n_pages = pdfreader.numPages\n",
    "        this_doc = ''\n",
    "        for i in range(n_pages):\n",
    "            pageObj = pdfreader.getPage(i)\n",
    "            this_doc += pageObj.extractText()\n",
    "        df.loc[this_loc]= file, pdfreader.getNumPages(),this_doc\n",
    "        this_loc = this_loc + 1\n",
    "    return df"
   ]
  },
  {
   "cell_type": "code",
   "execution_count": 6,
   "metadata": {},
   "outputs": [
    {
     "name": "stderr",
     "output_type": "stream",
     "text": [
      "PdfReadWarning: Xref table not zero-indexed. ID numbers for objects will be corrected. [pdf.py:1736]\n"
     ]
    }
   ],
   "source": [
    "df = create_dataframe(files)"
   ]
  },
  {
   "cell_type": "code",
   "execution_count": 7,
   "metadata": {},
   "outputs": [
    {
     "data": {
      "text/html": [
       "<div>\n",
       "<style scoped>\n",
       "    .dataframe tbody tr th:only-of-type {\n",
       "        vertical-align: middle;\n",
       "    }\n",
       "\n",
       "    .dataframe tbody tr th {\n",
       "        vertical-align: top;\n",
       "    }\n",
       "\n",
       "    .dataframe thead th {\n",
       "        text-align: right;\n",
       "    }\n",
       "</style>\n",
       "<table border=\"1\" class=\"dataframe\">\n",
       "  <thead>\n",
       "    <tr style=\"text-align: right;\">\n",
       "      <th></th>\n",
       "      <th>Name</th>\n",
       "      <th>Pages</th>\n",
       "      <th>Content</th>\n",
       "    </tr>\n",
       "  </thead>\n",
       "  <tbody>\n",
       "    <tr>\n",
       "      <td>1</td>\n",
       "      <td>thebook.pdf</td>\n",
       "      <td>234</td>\n",
       "      <td>INTRODUCTIONTOMACHINELEARNING\\nIntroductiontoM...</td>\n",
       "    </tr>\n",
       "    <tr>\n",
       "      <td>2</td>\n",
       "      <td>Data-Mining.pdf</td>\n",
       "      <td>24</td>\n",
       "      <td>Computer Science\\nAbout the Book\\n˜ is textboo...</td>\n",
       "    </tr>\n",
       "    <tr>\n",
       "      <td>3</td>\n",
       "      <td>s9449-building-a-distributed-gpu-dataframe-wit...</td>\n",
       "      <td>50</td>\n",
       "      <td>Building a Distributed GPU DataFrame with Pyth...</td>\n",
       "    </tr>\n",
       "    <tr>\n",
       "      <td>4</td>\n",
       "      <td>data-mining-concepts-and-techniques-2nd-editio...</td>\n",
       "      <td>770</td>\n",
       "      <td>TheMorganKaufmannSeriesinDataManagementSystems...</td>\n",
       "    </tr>\n",
       "    <tr>\n",
       "      <td>5</td>\n",
       "      <td>s9577-rapids-the-platform-inside-and-out.pdf</td>\n",
       "      <td>49</td>\n",
       "      <td>Joshua \\nPatterson \\n3-19-2019RAPIDS: PLATFORM...</td>\n",
       "    </tr>\n",
       "  </tbody>\n",
       "</table>\n",
       "</div>"
      ],
      "text/plain": [
       "                                                Name Pages  \\\n",
       "1                                        thebook.pdf   234   \n",
       "2                                    Data-Mining.pdf    24   \n",
       "3  s9449-building-a-distributed-gpu-dataframe-wit...    50   \n",
       "4  data-mining-concepts-and-techniques-2nd-editio...   770   \n",
       "5       s9577-rapids-the-platform-inside-and-out.pdf    49   \n",
       "\n",
       "                                             Content  \n",
       "1  INTRODUCTIONTOMACHINELEARNING\\nIntroductiontoM...  \n",
       "2  Computer Science\\nAbout the Book\\n˜ is textboo...  \n",
       "3  Building a Distributed GPU DataFrame with Pyth...  \n",
       "4  TheMorganKaufmannSeriesinDataManagementSystems...  \n",
       "5  Joshua \\nPatterson \\n3-19-2019RAPIDS: PLATFORM...  "
      ]
     },
     "execution_count": 7,
     "metadata": {},
     "output_type": "execute_result"
    }
   ],
   "source": [
    "df.head()"
   ]
  },
  {
   "cell_type": "markdown",
   "metadata": {},
   "source": [
    "# Creating elasticsearch object"
   ]
  },
  {
   "cell_type": "code",
   "execution_count": 8,
   "metadata": {},
   "outputs": [],
   "source": [
    "es = Elasticsearch()"
   ]
  },
  {
   "cell_type": "code",
   "execution_count": 9,
   "metadata": {},
   "outputs": [],
   "source": [
    "col_names=df.columns"
   ]
  },
  {
   "cell_type": "markdown",
   "metadata": {},
   "source": [
    "# Adding the index for each file by iterating on dataframe"
   ]
  },
  {
   "cell_type": "code",
   "execution_count": 13,
   "metadata": {},
   "outputs": [],
   "source": [
    "for row_number in range(df.shape[0]):\n",
    "    body = dict([(name, str(df.iloc[row_number][name])) for name in col_names])\n",
    "    es.index(index=\"elsbooktrial\",doc_type=\"books\",body=body)"
   ]
  },
  {
   "cell_type": "code",
   "execution_count": 31,
   "metadata": {},
   "outputs": [],
   "source": [
    "search_rslt = es.search(index=\"elsbooktrial\",body={\"_source\":[\"Name\",\"Pages\"],\n",
    "                                                  \"query\":{\n",
    "                                                      \"match_phrase\":{\"Content\":\"Computing\"}\n",
    "                                                  }})"
   ]
  },
  {
   "cell_type": "code",
   "execution_count": 32,
   "metadata": {},
   "outputs": [
    {
     "data": {
      "text/plain": [
       "{'took': 79,\n",
       " 'timed_out': False,\n",
       " '_shards': {'total': 1, 'successful': 1, 'skipped': 0, 'failed': 0},\n",
       " 'hits': {'total': {'value': 7, 'relation': 'eq'},\n",
       "  'max_score': 0.83708656,\n",
       "  'hits': [{'_index': 'elsbooktrial',\n",
       "    '_type': 'books',\n",
       "    '_id': 'oskelm8BVcgdjGvKkMxq',\n",
       "    '_score': 0.83708656,\n",
       "    '_source': {'Pages': '186', 'Name': 'Parallel computing.pdf'}},\n",
       "   {'_index': 'elsbooktrial',\n",
       "    '_type': 'books',\n",
       "    '_id': 'nskelm8BVcgdjGvKjcyi',\n",
       "    '_score': 0.751288,\n",
       "    '_source': {'Pages': '830', 'Name': 'NIC225296.pdf'}},\n",
       "   {'_index': 'elsbooktrial',\n",
       "    '_type': 'books',\n",
       "    '_id': 'mckelm8BVcgdjGvKisyT',\n",
       "    '_score': 0.6758751,\n",
       "    '_source': {'Pages': '234', 'Name': 'thebook.pdf'}},\n",
       "   {'_index': 'elsbooktrial',\n",
       "    '_type': 'books',\n",
       "    '_id': 'm8kelm8BVcgdjGvKi8zD',\n",
       "    '_score': 0.63997686,\n",
       "    '_source': {'Pages': '50',\n",
       "     'Name': 's9449-building-a-distributed-gpu-dataframe-with-python_V2.pdf'}},\n",
       "   {'_index': 'elsbooktrial',\n",
       "    '_type': 'books',\n",
       "    '_id': 'n8kelm8BVcgdjGvKj8w0',\n",
       "    '_score': 0.4933962,\n",
       "    '_source': {'Pages': '462', 'Name': 'DSA_Book.pdf'}},\n",
       "   {'_index': 'elsbooktrial',\n",
       "    '_type': 'books',\n",
       "    '_id': 'nMkelm8BVcgdjGvKjMxk',\n",
       "    '_score': 0.45706597,\n",
       "    '_source': {'Pages': '770',\n",
       "     'Name': 'data-mining-concepts-and-techniques-2nd-edition-impressao.pdf'}},\n",
       "   {'_index': 'elsbooktrial',\n",
       "    '_type': 'books',\n",
       "    '_id': 'ockelm8BVcgdjGvKkMwF',\n",
       "    '_score': 0.39041945,\n",
       "    '_source': {'Pages': '427', 'Name': 'pyspark.pdf'}}]}}"
      ]
     },
     "execution_count": 32,
     "metadata": {},
     "output_type": "execute_result"
    }
   ],
   "source": [
    "search_rslt"
   ]
  },
  {
   "cell_type": "code",
   "execution_count": null,
   "metadata": {},
   "outputs": [],
   "source": []
  }
 ],
 "metadata": {
  "kernelspec": {
   "display_name": "Python 3",
   "language": "python",
   "name": "python3"
  },
  "language_info": {
   "codemirror_mode": {
    "name": "ipython",
    "version": 3
   },
   "file_extension": ".py",
   "mimetype": "text/x-python",
   "name": "python",
   "nbconvert_exporter": "python",
   "pygments_lexer": "ipython3",
   "version": "3.6.9"
  }
 },
 "nbformat": 4,
 "nbformat_minor": 2
}
